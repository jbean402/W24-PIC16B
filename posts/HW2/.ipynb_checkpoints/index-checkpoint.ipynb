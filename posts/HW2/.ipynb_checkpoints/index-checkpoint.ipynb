{
  "cells": [
    {
      "cell_type": "code",
      "execution_count": null,
      "metadata": {
        "id": "JbrJlA4e8-rl"
      },
      "outputs": [],
      "source": [
        "---\n",
        "title: \"HW3: TMDB Movie Scraper\"\n",
        "author: \"Justine Constantino\"\n",
        "date: \"2024-02-07\"\n",
        "categories: [week 2, Homework 3]\n",
        "---"
      ]
    }
  ],
  "metadata": {
    "colab": {
      "provenance": []
    },
    "kernelspec": {
      "display_name": "Python 3",
      "name": "python3"
    },
    "language_info": {
      "name": "python"
    }
  },
  "nbformat": 4,
  "nbformat_minor": 0
}
