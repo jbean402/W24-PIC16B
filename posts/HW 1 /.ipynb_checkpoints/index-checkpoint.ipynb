{
 "cells": [
  {
   "cell_type": "code",
   "execution_count": null,
   "metadata": {
    "id": "JbrJlA4e8-rl"
   },
   "outputs": [],
   "source": [
    "---\n",
    "title: \"HW 1: Climate Data Visualization\"\n",
    "author: \"Justine Constantino\"\n",
    "date: \"2024-03-11\"\n",
    "categories: [week 1, Homework 1]\n",
    "---\n",
    "\n"
   ]
  }
 ],
 "metadata": {
  "colab": {
   "provenance": []
  },
  "kernelspec": {
   "display_name": "Python 3 (ipykernel)",
   "language": "python",
   "name": "python3"
  },
  "language_info": {
   "codemirror_mode": {
    "name": "ipython",
    "version": 3
   },
   "file_extension": ".py",
   "mimetype": "text/x-python",
   "name": "python",
   "nbconvert_exporter": "python",
   "pygments_lexer": "ipython3",
   "version": "3.11.6"
  }
 },
 "nbformat": 4,
 "nbformat_minor": 4
}
